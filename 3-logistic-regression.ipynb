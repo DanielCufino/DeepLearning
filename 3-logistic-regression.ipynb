{
 "cells": [
  {
   "cell_type": "markdown",
   "metadata": {},
   "source": [
    "Working with Images & Logistic Regression in PyTorch\n",
    "\n",
    "In this notebook I'll be performing logistics regression on the MNIST dataset\n"
   ]
  },
  {
   "cell_type": "code",
   "execution_count": 1,
   "metadata": {},
   "outputs": [],
   "source": [
    "import torch\n",
    "import torchvision\n",
    "from torchvision.datasets import MNIST"
   ]
  },
  {
   "cell_type": "code",
   "execution_count": 2,
   "metadata": {},
   "outputs": [],
   "source": [
    "dataset = MNIST(root='data/', download=True)"
   ]
  },
  {
   "cell_type": "code",
   "execution_count": 3,
   "metadata": {},
   "outputs": [
    {
     "data": {
      "text/plain": [
       "60000"
      ]
     },
     "execution_count": 3,
     "metadata": {},
     "output_type": "execute_result"
    }
   ],
   "source": [
    "#We see there are 60,000 images in this dataset\n",
    "len(dataset)"
   ]
  },
  {
   "cell_type": "code",
   "execution_count": 4,
   "metadata": {},
   "outputs": [],
   "source": [
    "#We are instantiating the testing dataset by using train = False\n",
    "test_dataset = MNIST(root='data/', train=False)"
   ]
  },
  {
   "cell_type": "code",
   "execution_count": 5,
   "metadata": {},
   "outputs": [
    {
     "data": {
      "text/plain": [
       "(<PIL.Image.Image image mode=L size=28x28 at 0x122E652E0>, 5)"
      ]
     },
     "execution_count": 5,
     "metadata": {},
     "output_type": "execute_result"
    }
   ],
   "source": [
    "dataset[0]"
   ]
  },
  {
   "cell_type": "code",
   "execution_count": 6,
   "metadata": {},
   "outputs": [],
   "source": [
    "import matplotlib.pyplot as plt\n",
    "%matplotlib inline"
   ]
  },
  {
   "cell_type": "code",
   "execution_count": 7,
   "metadata": {},
   "outputs": [
    {
     "name": "stdout",
     "output_type": "stream",
     "text": [
      "Label:  5\n"
     ]
    },
    {
     "data": {
      "image/png": "[encoded data removed]",
      "text/plain": [
       "<Figure size 432x288 with 1 Axes>"
      ]
     },
     "metadata": {
      "needs_background": "light"
     },
     "output_type": "display_data"
    }
   ],
   "source": [
    "image, label = dataset[0]\n",
    "plt.imshow(image, cmap='gray')\n",
    "print('Label: ', label)"
   ]
  },
  {
   "cell_type": "code",
   "execution_count": 8,
   "metadata": {},
   "outputs": [],
   "source": [
    "#The transforms module simply takes variables of differing datatypes nd transforms them into tensors\n",
    "import torchvision.transforms as transforms"
   ]
  },
  {
   "cell_type": "code",
   "execution_count": 9,
   "metadata": {},
   "outputs": [],
   "source": [
    "dataset = MNIST(root='data/', train=True, transform=transforms.ToTensor()) \n",
    "#Each element in the dataset is a 1 x 28 x 28 tensor where each entry is a pixel filled with its color intensity"
   ]
  },
  {
   "cell_type": "code",
   "execution_count": 10,
   "metadata": {},
   "outputs": [
    {
     "name": "stdout",
     "output_type": "stream",
     "text": [
      "torch.Size([1, 28, 28]) 5\n"
     ]
    }
   ],
   "source": [
    "img_tensor, label = dataset[0]\n",
    "print(img_tensor.shape, label)"
   ]
  },
  {
   "cell_type": "code",
   "execution_count": 11,
   "metadata": {},
   "outputs": [
    {
     "name": "stdout",
     "output_type": "stream",
     "text": [
      "tensor([[[0.0039, 0.6039, 0.9922, 0.3529, 0.0000],\n",
      "         [0.0000, 0.5451, 0.9922, 0.7451, 0.0078],\n",
      "         [0.0000, 0.0431, 0.7451, 0.9922, 0.2745],\n",
      "         [0.0000, 0.0000, 0.1373, 0.9451, 0.8824],\n",
      "         [0.0000, 0.0000, 0.0000, 0.3176, 0.9412]]])\n"
     ]
    }
   ],
   "source": [
    "print(img_tensor[:, 10:15, 10:15])"
   ]
  },
  {
   "cell_type": "code",
   "execution_count": 12,
   "metadata": {},
   "outputs": [
    {
     "data": {
      "text/plain": [
       "<matplotlib.image.AxesImage at 0x169ff31c0>"
      ]
     },
     "execution_count": 12,
     "metadata": {},
     "output_type": "execute_result"
    },
    {
     "data": {
      "image/png": "[encoded data removed]",
      "text/plain": [
       "<Figure size 432x288 with 1 Axes>"
      ]
     },
     "metadata": {
      "needs_background": "light"
     },
     "output_type": "display_data"
    }
   ],
   "source": [
    "#Images are just matrices of pixels that can have different channels of intensity for each color\n",
    "plt.imshow(img_tensor[0, 10:15, 10:15], cmap='gray')"
   ]
  },
  {
   "cell_type": "markdown",
   "metadata": {},
   "source": [
    "    Training and Validation Datasets\n",
    "While building real-world machine learning models, it is quite common to split the dataset into three parts:\n",
    "\n",
    "Training set - used to train the model, i.e., compute the loss and adjust the model's weights using gradient descent.\n",
    "Validation set - used to evaluate the model during training, adjust hyperparameters (learning rate, etc.), and pick the best version of the model.\n",
    "\n",
    "Test set - used to compare different models or approaches and report the model's final accuracy.\n",
    "In the MNIST dataset, there are 60,000 training images and 10,000 test images. The test set is standardized so that different researchers can report their models' results against the same collection of images.\n",
    "\n",
    "Since there's no predefined validation set, we must manually split the 60,000 images into training and validation datasets. Let's set aside 10,000 randomly chosen images for validation. We can do this using the random_spilt method from PyTorch."
   ]
  },
  {
   "cell_type": "code",
   "execution_count": 13,
   "metadata": {},
   "outputs": [],
   "source": [
    "from torch.utils.data import random_split\n",
    "\n",
    "train_ds, val_ds = random_split(dataset, [50000, 10000])"
   ]
  },
  {
   "cell_type": "code",
   "execution_count": 14,
   "metadata": {},
   "outputs": [],
   "source": [
    "from torch.utils.data import DataLoader\n",
    "\n",
    "batch_size = 128\n",
    "\n",
    "train_loader = DataLoader(train_ds, batch_size, shuffle=True)\n",
    "val_loader = DataLoader(val_ds, batch_size)"
   ]
  },
  {
   "cell_type": "code",
   "execution_count": 15,
   "metadata": {},
   "outputs": [],
   "source": [
    "import torch.nn as nn"
   ]
  },
  {
   "cell_type": "code",
   "execution_count": 16,
   "metadata": {},
   "outputs": [],
   "source": [
    "input_size = 28 * 28\n",
    "num_classes = 10\n",
    "\n",
    "model = nn.Linear(input_size, num_classes)"
   ]
  },
  {
   "cell_type": "code",
   "execution_count": 17,
   "metadata": {},
   "outputs": [
    {
     "name": "stdout",
     "output_type": "stream",
     "text": [
      "torch.Size([10, 784])\n"
     ]
    },
    {
     "data": {
      "text/plain": [
       "Parameter containing:\n",
       "tensor([[ 0.0190,  0.0189, -0.0339,  ..., -0.0262,  0.0077,  0.0162],\n",
       "        [-0.0217, -0.0190,  0.0335,  ...,  0.0192, -0.0155,  0.0060],\n",
       "        [ 0.0292, -0.0026,  0.0290,  ...,  0.0301,  0.0251,  0.0310],\n",
       "        ...,\n",
       "        [ 0.0035, -0.0314,  0.0096,  ...,  0.0124, -0.0275,  0.0027],\n",
       "        [ 0.0253, -0.0048,  0.0270,  ..., -0.0297, -0.0003, -0.0198],\n",
       "        [-0.0110,  0.0120, -0.0104,  ...,  0.0201, -0.0043,  0.0322]],\n",
       "       requires_grad=True)"
      ]
     },
     "execution_count": 17,
     "metadata": {},
     "output_type": "execute_result"
    }
   ],
   "source": [
    "print(model.weight.shape)\n",
    "model.weight"
   ]
  },
  {
   "cell_type": "code",
   "execution_count": 18,
   "metadata": {},
   "outputs": [
    {
     "data": {
      "text/plain": [
       "'\\n#We need to reshape the 28x28 tensors for each image into a size 784 vector\\nfor images, labels in train_loader:\\n    print(images.shape)\\n    #This breaks because the images are not represented as single vectors\\n    output = model(images)\\n'"
      ]
     },
     "execution_count": 18,
     "metadata": {},
     "output_type": "execute_result"
    }
   ],
   "source": [
    "'''\n",
    "#We need to reshape the 28x28 tensors for each image into a size 784 vector\n",
    "for images, labels in train_loader:\n",
    "    print(images.shape)\n",
    "    #This breaks because the images are not represented as single vectors\n",
    "    output = model(images)\n",
    "'''"
   ]
  },
  {
   "cell_type": "code",
   "execution_count": 19,
   "metadata": {},
   "outputs": [
    {
     "data": {
      "text/plain": [
       "'\\n#We overcome this by using .reshape()\\nprint(images.shape)\\nimages.reshape(128, 784).shape\\n'"
      ]
     },
     "execution_count": 19,
     "metadata": {},
     "output_type": "execute_result"
    }
   ],
   "source": [
    "'''\n",
    "#We overcome this by using .reshape()\n",
    "print(images.shape)\n",
    "images.reshape(128, 784).shape\n",
    "'''"
   ]
  },
  {
   "cell_type": "code",
   "execution_count": 20,
   "metadata": {},
   "outputs": [],
   "source": [
    "class MNISTModel(nn.Module):\n",
    "    def __init__(self):\n",
    "        #Since we're extending this class within another class, we have to call the constructor of the superclass first\n",
    "        super().__init__()\n",
    "        self.linear = nn.Linear(input_size, num_classes)\n",
    "    #The forward function is invoked when you pass a batch of data into the model\n",
    "    def forward(self, xb):\n",
    "        #Using the -1 allows us to use a dynamic batch size to make it more generic for\n",
    "        xb = xb.reshape(-1, 784)\n",
    "        output = self.linear(xb)\n",
    "        return output\n",
    "    "
   ]
  },
  {
   "cell_type": "code",
   "execution_count": 21,
   "metadata": {},
   "outputs": [],
   "source": [
    "model = MNISTModel()"
   ]
  },
  {
   "cell_type": "code",
   "execution_count": 22,
   "metadata": {},
   "outputs": [
    {
     "data": {
      "text/plain": [
       "Linear(in_features=784, out_features=10, bias=True)"
      ]
     },
     "execution_count": 22,
     "metadata": {},
     "output_type": "execute_result"
    }
   ],
   "source": [
    "model.linear"
   ]
  },
  {
   "cell_type": "code",
   "execution_count": 23,
   "metadata": {},
   "outputs": [
    {
     "name": "stdout",
     "output_type": "stream",
     "text": [
      "torch.Size([10, 784]) torch.Size([10])\n"
     ]
    },
    {
     "data": {
      "text/plain": [
       "[Parameter containing:\n",
       " tensor([[ 0.0173,  0.0121, -0.0110,  ...,  0.0083, -0.0296,  0.0202],\n",
       "         [-0.0226, -0.0302,  0.0052,  ...,  0.0143, -0.0110,  0.0311],\n",
       "         [-0.0045,  0.0038, -0.0230,  ...,  0.0173, -0.0241,  0.0128],\n",
       "         ...,\n",
       "         [-0.0272, -0.0204, -0.0200,  ..., -0.0345, -0.0193,  0.0271],\n",
       "         [-0.0157,  0.0341,  0.0212,  ...,  0.0089, -0.0285, -0.0190],\n",
       "         [ 0.0080,  0.0127,  0.0008,  ..., -0.0111, -0.0131,  0.0295]],\n",
       "        requires_grad=True),\n",
       " Parameter containing:\n",
       " tensor([ 0.0256, -0.0151, -0.0345,  0.0021, -0.0348, -0.0292, -0.0038, -0.0110,\n",
       "          0.0312, -0.0255], requires_grad=True)]"
      ]
     },
     "execution_count": 23,
     "metadata": {},
     "output_type": "execute_result"
    }
   ],
   "source": [
    "print(model.linear.weight.shape, model.linear.bias.shape)\n",
    "list(model.parameters())"
   ]
  },
  {
   "cell_type": "code",
   "execution_count": 24,
   "metadata": {},
   "outputs": [
    {
     "name": "stdout",
     "output_type": "stream",
     "text": [
      "torch.Size([128, 10])\n"
     ]
    }
   ],
   "source": [
    "#Now it works!\n",
    "for images, labels in train_loader:\n",
    "    outputs = model(images)\n",
    "    print(outputs.shape)\n",
    "    break"
   ]
  },
  {
   "cell_type": "code",
   "execution_count": 25,
   "metadata": {},
   "outputs": [],
   "source": [
    "import torch.nn.functional as F"
   ]
  },
  {
   "cell_type": "code",
   "execution_count": 26,
   "metadata": {},
   "outputs": [],
   "source": [
    "#Apply soft max to each element in the output for an entry\n",
    "probs = F.softmax(outputs, dim=1)"
   ]
  },
  {
   "cell_type": "code",
   "execution_count": 27,
   "metadata": {},
   "outputs": [
    {
     "name": "stdout",
     "output_type": "stream",
     "text": [
      "tensor([9, 9, 7, 8, 9, 4, 8, 3, 4, 4, 9, 4, 8, 9, 7, 7, 7, 3, 9, 7, 6, 9, 7, 3,\n",
      "        6, 7, 9, 9, 8, 9, 4, 9, 9, 9, 7, 4, 8, 6, 9, 7, 9, 9, 9, 9, 9, 7, 3, 9,\n",
      "        3, 8, 9, 7, 0, 9, 9, 9, 3, 3, 7, 9, 9, 9, 7, 0, 9, 3, 9, 7, 0, 9, 7, 4,\n",
      "        6, 9, 9, 7, 7, 7, 3, 0, 9, 7, 9, 8, 3, 1, 3, 9, 4, 9, 8, 9, 4, 9, 9, 4,\n",
      "        8, 7, 4, 9, 7, 9, 8, 3, 6, 9, 9, 7, 4, 7, 9, 4, 7, 1, 8, 9, 9, 9, 7, 4,\n",
      "        4, 7, 9, 9, 4, 7, 4, 9])\n",
      "tensor([0.1277, 0.1299, 0.1271, 0.1190, 0.1168, 0.1381, 0.1242, 0.1322, 0.1378,\n",
      "        0.1590, 0.1345, 0.1370, 0.1238, 0.1338, 0.1328, 0.1260, 0.1259, 0.1248,\n",
      "        0.1429, 0.1353, 0.1221, 0.1400, 0.1426, 0.1262, 0.1261, 0.1404, 0.1652,\n",
      "        0.1383, 0.1317, 0.1264, 0.1529, 0.1235, 0.1438, 0.1190, 0.1242, 0.1170,\n",
      "        0.1220, 0.1154, 0.1254, 0.1381, 0.1297, 0.1230, 0.1177, 0.1363, 0.1471,\n",
      "        0.1271, 0.1553, 0.1555, 0.1154, 0.1372, 0.1565, 0.1247, 0.1499, 0.1410,\n",
      "        0.1245, 0.1456, 0.1261, 0.1317, 0.1424, 0.1341, 0.1232, 0.1396, 0.1214,\n",
      "        0.1271, 0.1521, 0.1328, 0.1300, 0.1361, 0.1391, 0.1606, 0.1120, 0.1371,\n",
      "        0.1166, 0.1280, 0.1389, 0.1253, 0.1201, 0.1279, 0.1216, 0.1579, 0.1402,\n",
      "        0.1262, 0.1494, 0.1241, 0.1215, 0.1207, 0.1349, 0.1408, 0.1401, 0.1370,\n",
      "        0.1261, 0.1162, 0.1446, 0.1301, 0.1492, 0.1490, 0.1227, 0.1261, 0.1308,\n",
      "        0.1673, 0.1671, 0.1266, 0.1256, 0.1202, 0.1319, 0.1436, 0.1602, 0.1364,\n",
      "        0.1338, 0.1388, 0.1364, 0.1251, 0.1234, 0.1302, 0.1251, 0.1316, 0.1192,\n",
      "        0.1351, 0.1238, 0.1593, 0.1299, 0.1213, 0.1533, 0.1463, 0.1500, 0.1246,\n",
      "        0.1377, 0.1505], grad_fn=<MaxBackward0>)\n"
     ]
    }
   ],
   "source": [
    "max_probs, preds = torch.max(probs, dim=1)\n",
    "print(preds)\n",
    "print(max_probs)\n",
    "\n",
    "#Now we can train the model to make it learn using evaluating metrics"
   ]
  },
  {
   "cell_type": "code",
   "execution_count": 28,
   "metadata": {},
   "outputs": [],
   "source": [
    "def accuracy(outputs, labels):\n",
    "    _, preds = torch.max(outputs, dim=1)\n",
    "    #Returns the % of images correctly labeled\n",
    "    return torch.tensor(torch.sum(preds == labels).item() / len(preds))"
   ]
  },
  {
   "cell_type": "code",
   "execution_count": 29,
   "metadata": {},
   "outputs": [
    {
     "data": {
      "text/plain": [
       "tensor(0.1250)"
      ]
     },
     "execution_count": 29,
     "metadata": {},
     "output_type": "execute_result"
    }
   ],
   "source": [
    "accuracy(outputs, labels)"
   ]
  },
  {
   "cell_type": "code",
   "execution_count": 30,
   "metadata": {},
   "outputs": [],
   "source": [
    "loss_fn = F.cross_entropy\n"
   ]
  },
  {
   "cell_type": "code",
   "execution_count": 31,
   "metadata": {},
   "outputs": [
    {
     "name": "stdout",
     "output_type": "stream",
     "text": [
      "tensor(2.2756, grad_fn=<NllLossBackward0>)\n"
     ]
    }
   ],
   "source": [
    "loss = loss_fn(outputs, labels) \n",
    "print(loss)"
   ]
  },
  {
   "cell_type": "code",
   "execution_count": 32,
   "metadata": {},
   "outputs": [],
   "source": [
    "#Training our model psuedocode\n",
    "\n",
    "#for epoch in range(num_epochs):\n",
    "    # Training phase\n",
    "    #for batch in train_loader:\n",
    "        # Generate predictions\n",
    "        # Calculate loss\n",
    "        # Compute gradients\n",
    "        # Update weights\n",
    "        # Reset gradients\n",
    "    \n",
    "    # Validation phase\n",
    "    #for batch in val_loader:\n",
    "        # Generate predictions\n",
    "        # Calculate loss\n",
    "        # Calculate metrics (accuracy etc.)\n",
    "    # Calculate average validation loss & metrics\n",
    "    \n",
    "    # Log epoch, loss & metrics for inspection"
   ]
  },
  {
   "cell_type": "code",
   "execution_count": 33,
   "metadata": {},
   "outputs": [],
   "source": [
    "def fit(epochs, lr, train_loader, val_loader, optfnc=torch.optim.SGD):\n",
    "\n",
    "    optimizer = optfnc(model.parameters(), lr)\n",
    "    history = []\n",
    "\n",
    "    for epoch in range(epochs):\n",
    "        #Training\n",
    "        for batch in train_loader:\n",
    "            loss = model.training_step(batch)\n",
    "            loss.backward()\n",
    "            optimizer.step()\n",
    "            optimizer.zero_grad()\n",
    "        #Validation\n",
    "        result = evaluate(model, val_loader)\n",
    "        model.epoch_end(epoch, result)\n",
    "        history.append(result)\n",
    "    \n",
    "    return history\n"
   ]
  },
  {
   "cell_type": "code",
   "execution_count": 34,
   "metadata": {},
   "outputs": [],
   "source": [
    "def evaluate(model, val_loader):\n",
    "    outputs = [model.validation_step(batch) for batch in val_loader]\n",
    "    return model.validation_epoch_end(outputs)"
   ]
  },
  {
   "cell_type": "code",
   "execution_count": 35,
   "metadata": {},
   "outputs": [],
   "source": [
    "class MNISTModel(nn.Module):\n",
    "    def __init__(self):\n",
    "        #Since we're extending this class within another class, we have to call the constructor of the superclass first\n",
    "        super().__init__()\n",
    "        self.linear = nn.Linear(input_size, num_classes)\n",
    "    #The forward function is invoked when you pass a batch of data into the model\n",
    "    def forward(self, xb):\n",
    "        #Using the -1 allows us to use a dynamic batch size to make it more generic for\n",
    "        xb = xb.reshape(-1, 784)\n",
    "        output = self.linear(xb)\n",
    "        return output\n",
    "    \n",
    "    def training_step(self, batch):\n",
    "        images, labels = batch\n",
    "        #self(images) calls the forward functiion, which returns the output\n",
    "        out = self(images)                  #Generates Predictions using self() as the model\n",
    "        loss = F.cross_entropy(out, labels) #Generates loss of these predictions\n",
    "        return loss\n",
    "    \n",
    "    def validation_step(self, batch):\n",
    "        images, labels = batch\n",
    "        out = self(images)                  #Generate Predictions\n",
    "        loss = F.cross_entropy(out, labels) #Calculate Loss\n",
    "        acc = accuracy(out, labels)         #Calculate Accuracy\n",
    "        return {'val_loss': loss, 'val_acc': acc}\n",
    "\n",
    "    def validation_epoch_end(self, outputs):\n",
    "        batch_losses = [x['val_loss'] for x in outputs]\n",
    "        epoch_loss = torch.stack(batch_losses).mean()   # Combine losses\n",
    "        batch_accs = [x['val_acc'] for x in outputs]\n",
    "        epoch_acc = torch.stack(batch_accs).mean()      # Combine accuracies\n",
    "        return {'val_loss': epoch_loss.item(), 'val_acc': epoch_acc.item()}\n",
    "    \n",
    "    def epoch_end(self, epoch, result):\n",
    "        print(\"Epoch [{}], val_loss: {:.4f}, val_acc: {:.4f}\".format(epoch, result['val_loss'], result['val_acc']))\n"
   ]
  },
  {
   "cell_type": "code",
   "execution_count": 36,
   "metadata": {},
   "outputs": [
    {
     "data": {
      "text/plain": [
       "'macOS-12.3.1-arm64-arm-64bit'"
      ]
     },
     "execution_count": 36,
     "metadata": {},
     "output_type": "execute_result"
    }
   ],
   "source": [
    "import platform\n",
    "platform.platform()\n",
    "#Ensuring we are using GPU to train"
   ]
  },
  {
   "cell_type": "code",
   "execution_count": 37,
   "metadata": {},
   "outputs": [
    {
     "data": {
      "text/plain": [
       "True"
      ]
     },
     "execution_count": 37,
     "metadata": {},
     "output_type": "execute_result"
    }
   ],
   "source": [
    "torch.has_mps"
   ]
  },
  {
   "cell_type": "code",
   "execution_count": 38,
   "metadata": {},
   "outputs": [],
   "source": [
    "#Setting the device to use\n",
    "device = torch.device('mps')"
   ]
  },
  {
   "cell_type": "code",
   "execution_count": 39,
   "metadata": {},
   "outputs": [],
   "source": [
    "#Instantiating device w/ GPU\n",
    "model = MNISTModel()\n",
    "#model.to(device)"
   ]
  },
  {
   "cell_type": "code",
   "execution_count": 40,
   "metadata": {},
   "outputs": [
    {
     "data": {
      "text/plain": [
       "{'val_loss': 2.3406834602355957, 'val_acc': 0.15150316059589386}"
      ]
     },
     "execution_count": 40,
     "metadata": {},
     "output_type": "execute_result"
    }
   ],
   "source": [
    "result0 = evaluate(model, val_loader)\n",
    "result0"
   ]
  },
  {
   "cell_type": "code",
   "execution_count": 41,
   "metadata": {},
   "outputs": [
    {
     "name": "stdout",
     "output_type": "stream",
     "text": [
      "Epoch [0], val_loss: 1.9700, val_acc: 0.5659\n",
      "Epoch [1], val_loss: 1.6998, val_acc: 0.6853\n",
      "Epoch [2], val_loss: 1.4978, val_acc: 0.7459\n",
      "Epoch [3], val_loss: 1.3450, val_acc: 0.7715\n",
      "Epoch [4], val_loss: 1.2274, val_acc: 0.7895\n"
     ]
    }
   ],
   "source": [
    "history1 = fit(5, .001, train_loader, val_loader)"
   ]
  },
  {
   "cell_type": "code",
   "execution_count": 42,
   "metadata": {},
   "outputs": [
    {
     "name": "stdout",
     "output_type": "stream",
     "text": [
      "Epoch [0], val_loss: 1.1350, val_acc: 0.8002\n",
      "Epoch [1], val_loss: 1.0607, val_acc: 0.8091\n",
      "Epoch [2], val_loss: 0.9999, val_acc: 0.8164\n",
      "Epoch [3], val_loss: 0.9492, val_acc: 0.8221\n",
      "Epoch [4], val_loss: 0.9064, val_acc: 0.8259\n"
     ]
    }
   ],
   "source": [
    "history2 = fit(5, .001, train_loader, val_loader)"
   ]
  },
  {
   "cell_type": "code",
   "execution_count": 43,
   "metadata": {},
   "outputs": [
    {
     "name": "stdout",
     "output_type": "stream",
     "text": [
      "Epoch [0], val_loss: 0.8697, val_acc: 0.8296\n",
      "Epoch [1], val_loss: 0.8379, val_acc: 0.8320\n",
      "Epoch [2], val_loss: 0.8102, val_acc: 0.8357\n",
      "Epoch [3], val_loss: 0.7856, val_acc: 0.8390\n",
      "Epoch [4], val_loss: 0.7637, val_acc: 0.8413\n"
     ]
    }
   ],
   "source": [
    "history3 = fit(5, .001, train_loader, val_loader)"
   ]
  },
  {
   "cell_type": "code",
   "execution_count": 44,
   "metadata": {},
   "outputs": [
    {
     "name": "stdout",
     "output_type": "stream",
     "text": [
      "Epoch [0], val_loss: 0.7442, val_acc: 0.8431\n",
      "Epoch [1], val_loss: 0.7264, val_acc: 0.8455\n",
      "Epoch [2], val_loss: 0.7104, val_acc: 0.8474\n",
      "Epoch [3], val_loss: 0.6958, val_acc: 0.8500\n",
      "Epoch [4], val_loss: 0.6824, val_acc: 0.8514\n"
     ]
    }
   ],
   "source": [
    "history4 = fit(5, .001, train_loader, val_loader)"
   ]
  },
  {
   "cell_type": "code",
   "execution_count": 56,
   "metadata": {},
   "outputs": [
    {
     "data": {
      "text/plain": [
       "Text(0.5, 1.0, 'Accuracy vs. # Epochs')"
      ]
     },
     "execution_count": 56,
     "metadata": {},
     "output_type": "execute_result"
    },
    {
     "data": {
      "image/png": "[encoded data removed]",
      "text/plain": [
       "<Figure size 432x288 with 1 Axes>"
      ]
     },
     "metadata": {
      "needs_background": "light"
     },
     "output_type": "display_data"
    }
   ],
   "source": [
    "history = history1 + history2 + history3 + history4\n",
    "accuracies = [result['val_acc'] for result in history]\n",
    "plt.plot(accuracies, '-x')\n",
    "plt.xlabel('epoch')\n",
    "plt.ylabel('accuracy')\n",
    "plt.title('Accuracy vs. # Epochs')"
   ]
  },
  {
   "cell_type": "code",
   "execution_count": 62,
   "metadata": {},
   "outputs": [
    {
     "data": {
      "application/javascript": "window.require && require([\"base/js/namespace\"],function(Jupyter){Jupyter.notebook.save_checkpoint()})",
      "text/plain": [
       "<IPython.core.display.Javascript object>"
      ]
     },
     "metadata": {},
     "output_type": "display_data"
    },
    {
     "name": "stdout",
     "output_type": "stream",
     "text": [
      "[jovian] Creating a new project \"danielcufino/3-logistic-regression\"\u001b[0m\n",
      "[jovian] Committed successfully! https://jovian.ai/danielcufino/3-logistic-regression\u001b[0m\n"
     ]
    },
    {
     "data": {
      "text/plain": [
       "'https://jovian.ai/danielcufino/3-logistic-regression'"
      ]
     },
     "execution_count": 62,
     "metadata": {},
     "output_type": "execute_result"
    }
   ],
   "source": [
    "import jovian\n",
    "jovian.commit(filename='3-logistic-regression.ipynb', project='3-logistic-regression', environment = None)"
   ]
  },
  {
   "cell_type": "code",
   "execution_count": 63,
   "metadata": {},
   "outputs": [
    {
     "name": "stdout",
     "output_type": "stream",
     "text": [
      "[jovian] Metrics logged.\u001b[0m\n"
     ]
    }
   ],
   "source": [
    "jovian.log_metrics(val_acc=history[-1]['val_acc'], val_loss=history[-1]['val_loss'])"
   ]
  },
  {
   "cell_type": "code",
   "execution_count": 65,
   "metadata": {},
   "outputs": [],
   "source": [
    "test_dataset = MNIST(root='data/', \n",
    "                        train=False, \n",
    "                        transform=transforms.ToTensor())"
   ]
  },
  {
   "cell_type": "code",
   "execution_count": 66,
   "metadata": {},
   "outputs": [
    {
     "name": "stdout",
     "output_type": "stream",
     "text": [
      "Shape: torch.Size([1, 28, 28])\n",
      "Label: \n"
     ]
    },
    {
     "data": {
      "image/png": "[encoded data removed]",
      "text/plain": [
       "<Figure size 432x288 with 1 Axes>"
      ]
     },
     "metadata": {
      "needs_background": "light"
     },
     "output_type": "display_data"
    }
   ],
   "source": [
    "img, label = test_dataset[0]\n",
    "plt.imshow(img[0], cmap='gray')\n",
    "print('Shape: {}'.format(img.shape))\n",
    "print('Label: '.format(label))"
   ]
  },
  {
   "cell_type": "code",
   "execution_count": 67,
   "metadata": {},
   "outputs": [],
   "source": [
    "def predict_image(img, model):\n",
    "    #unsqueeze adds an an image to our data since our model has to always take in batches, even of size 1\n",
    "    xb = img.unsqueeze(0)\n",
    "    yb = model(xb)\n",
    "    #get the index of the highest value element\n",
    "    _, preds = torch.max(yb, dim=1)\n",
    "    #.item() extracts the value out of a tensor\n",
    "    return preds[0].item()"
   ]
  },
  {
   "cell_type": "code",
   "execution_count": 68,
   "metadata": {},
   "outputs": [
    {
     "name": "stdout",
     "output_type": "stream",
     "text": [
      "Label: \n",
      "Predicted: 7\n"
     ]
    },
    {
     "data": {
      "image/png": "[encoded data removed]",
      "text/plain": [
       "<Figure size 432x288 with 1 Axes>"
      ]
     },
     "metadata": {
      "needs_background": "light"
     },
     "output_type": "display_data"
    }
   ],
   "source": [
    "img, label = test_dataset[0]\n",
    "plt.imshow(img[0], cmap='gray')\n",
    "print('Label: '.format(label))\n",
    "print('Predicted: {}'.format(predict_image(img, model)))\n"
   ]
  },
  {
   "cell_type": "code",
   "execution_count": 70,
   "metadata": {},
   "outputs": [
    {
     "data": {
      "text/plain": [
       "{'val_loss': 0.6451002955436707, 'val_acc': 0.858691394329071}"
      ]
     },
     "execution_count": 70,
     "metadata": {},
     "output_type": "execute_result"
    }
   ],
   "source": [
    "test_loader = DataLoader(test_dataset, batch_size=256)\n",
    "result = evaluate(model, test_loader)\n",
    "result"
   ]
  },
  {
   "cell_type": "code",
   "execution_count": 71,
   "metadata": {},
   "outputs": [],
   "source": [
    "#Hpw to save a model\n",
    "torch.save(model.state_dict(), 'mnist_logistic.pth')"
   ]
  },
  {
   "cell_type": "code",
   "execution_count": 73,
   "metadata": {},
   "outputs": [
    {
     "data": {
      "text/plain": [
       "OrderedDict([('linear.weight',\n",
       "              tensor([[-0.0179,  0.0086, -0.0332,  ...,  0.0276, -0.0221,  0.0259],\n",
       "                      [-0.0218, -0.0285,  0.0067,  ..., -0.0115,  0.0087, -0.0088],\n",
       "                      [-0.0250,  0.0262,  0.0012,  ...,  0.0082, -0.0336,  0.0185],\n",
       "                      ...,\n",
       "                      [-0.0004, -0.0212,  0.0276,  ...,  0.0143, -0.0329,  0.0291],\n",
       "                      [ 0.0122,  0.0335,  0.0001,  ...,  0.0273,  0.0014, -0.0262],\n",
       "                      [-0.0152,  0.0075,  0.0042,  ...,  0.0182,  0.0275, -0.0176]])),\n",
       "             ('linear.bias',\n",
       "              tensor([-0.0332,  0.0739, -0.0033, -0.0066, -0.0003,  0.0581, -0.0277,  0.0342,\n",
       "                      -0.1120, -0.0097]))])"
      ]
     },
     "execution_count": 73,
     "metadata": {},
     "output_type": "execute_result"
    }
   ],
   "source": [
    "model.state_dict()"
   ]
  },
  {
   "cell_type": "code",
   "execution_count": 74,
   "metadata": {},
   "outputs": [],
   "source": [
    "#How to load a model\n",
    "model2 = MNISTModel()"
   ]
  },
  {
   "cell_type": "code",
   "execution_count": 76,
   "metadata": {},
   "outputs": [
    {
     "data": {
      "text/plain": [
       "{'val_loss': 0.6451002955436707, 'val_acc': 0.858691394329071}"
      ]
     },
     "execution_count": 76,
     "metadata": {},
     "output_type": "execute_result"
    }
   ],
   "source": [
    "model2.load_state_dict(torch.load('mnist_logistic.pth'))\n",
    "result = evaluate(model2, test_loader)\n",
    "result"
   ]
  },
  {
   "cell_type": "code",
   "execution_count": null,
   "metadata": {},
   "outputs": [],
   "source": [
    "jovian.commit(filename='3-logistic-regression.ipynb', \n",
    "                project='3-logistic-regression', \n",
    "                environment = None,\n",
    "                outputs=['mnist_logistic.pth'])\n"
   ]
  }
 ],
 "metadata": {
  "interpreter": {
   "hash": "6029c3e4a5bf2fd888ebd83fdb88a6c4178759d2e9deacc90d4e0ec196249d32"
  },
  "kernelspec": {
   "display_name": "Python 3.9.10 ('base')",
   "language": "python",
   "name": "python3"
  },
  "language_info": {
   "codemirror_mode": {
    "name": "ipython",
    "version": 3
   },
   "file_extension": ".py",
   "mimetype": "text/x-python",
   "name": "python",
   "nbconvert_exporter": "python",
   "pygments_lexer": "ipython3",
   "version": "3.8.13"
  },
  "orig_nbformat": 4
 },
 "nbformat": 4,
 "nbformat_minor": 2
}

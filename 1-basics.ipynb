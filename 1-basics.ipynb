{
 "cells": [
  {
   "cell_type": "code",
   "execution_count": 1,
   "metadata": {},
   "outputs": [],
   "source": [
    "import torch"
   ]
  },
  {
   "cell_type": "code",
   "execution_count": 7,
   "metadata": {},
   "outputs": [
    {
     "data": {
      "text/plain": [
       "torch.float32"
      ]
     },
     "execution_count": 7,
     "metadata": {},
     "output_type": "execute_result"
    }
   ],
   "source": [
    "#dot is used to indicate floating point \n",
    "t1 = torch.tensor(4.)\n",
    "t1.dtype"
   ]
  },
  {
   "cell_type": "code",
   "execution_count": 9,
   "metadata": {},
   "outputs": [
    {
     "data": {
      "text/plain": [
       "tensor([1., 2., 3., 4.])"
      ]
     },
     "execution_count": 9,
     "metadata": {},
     "output_type": "execute_result"
    }
   ],
   "source": [
    "#Making a vector\n",
    "t2 = torch.tensor([1., 2, 3, 4])\n",
    "t2\n",
    "#Note that all values in a tensor must be of the same type"
   ]
  },
  {
   "cell_type": "code",
   "execution_count": 12,
   "metadata": {},
   "outputs": [
    {
     "data": {
      "text/plain": [
       "tensor([[ 5.,  6.,  7.],\n",
       "        [ 8.,  9., 10.],\n",
       "        [11., 12., 13.]])"
      ]
     },
     "execution_count": 12,
     "metadata": {},
     "output_type": "execute_result"
    }
   ],
   "source": [
    "#Making a matrix\n",
    "t3 = torch.tensor([\n",
    "                    [5., 6, 7],\n",
    "                    [8, 9, 10],\n",
    "                    [11, 12, 13]])\n",
    "t3"
   ]
  },
  {
   "cell_type": "code",
   "execution_count": 16,
   "metadata": {},
   "outputs": [
    {
     "data": {
      "text/plain": [
       "tensor([[[  5.,   6.,   7.],\n",
       "         [  8.,   9.,  10.],\n",
       "         [ 11.,  12.,  13.]],\n",
       "\n",
       "        [[ 14.,  15.,  16.],\n",
       "         [ 17.,  18.,  19.],\n",
       "         [ 20.,  21., 122.]]])"
      ]
     },
     "execution_count": 16,
     "metadata": {},
     "output_type": "execute_result"
    }
   ],
   "source": [
    "#Making a 3-D array\n",
    "\n",
    "t4 = torch.tensor([\n",
    "                [\n",
    "                    [5., 6, 7],\n",
    "                    [8, 9, 10],\n",
    "                    [11, 12, 13]\n",
    "                ],\n",
    "                [\n",
    "                    [14., 15, 16],\n",
    "                    [17, 18, 19],\n",
    "                    [20, 21, 122]\n",
    "                ]])\n",
    "t4\n",
    "\n",
    "#You cannot make a tensor of an invalid size  "
   ]
  },
  {
   "cell_type": "code",
   "execution_count": 17,
   "metadata": {},
   "outputs": [
    {
     "name": "stdout",
     "output_type": "stream",
     "text": [
      "torch.Size([])\n",
      "torch.Size([4])\n",
      "torch.Size([3, 3])\n",
      "torch.Size([2, 3, 3])\n"
     ]
    }
   ],
   "source": [
    "print(t1.shape)\n",
    "print(t2.shape)\n",
    "print(t3.shape)\n",
    "print(t4.shape)\n"
   ]
  },
  {
   "cell_type": "code",
   "execution_count": 18,
   "metadata": {},
   "outputs": [
    {
     "data": {
      "text/plain": [
       "(tensor(3.), tensor(4., requires_grad=True), tensor(5., requires_grad=True))"
      ]
     },
     "execution_count": 18,
     "metadata": {},
     "output_type": "execute_result"
    }
   ],
   "source": [
    "#The parameter requires_grad allows you to automatically compute the derivative of a tensor w.r.t those tensors that have this \n",
    "#parameter set to true \n",
    "\n",
    "x = torch.tensor(3.)\n",
    "y = torch.tensor(4., requires_grad=True)\n",
    "b = torch.tensor(5., requires_grad=True)\n",
    "\n",
    "x, y, b\n"
   ]
  },
  {
   "cell_type": "code",
   "execution_count": 22,
   "metadata": {},
   "outputs": [],
   "source": [
    "w = x * y + b\n",
    "w\n",
    "w.backward()"
   ]
  },
  {
   "cell_type": "code",
   "execution_count": 23,
   "metadata": {},
   "outputs": [
    {
     "name": "stdout",
     "output_type": "stream",
     "text": [
      "dw/dx = {} None\n",
      "dw/dy = {} tensor(9.)\n",
      "dw/db = {} tensor(3.)\n"
     ]
    }
   ],
   "source": [
    "print(\"dw/dx = {}\", x.grad)\n",
    "print(\"dw/dy = {}\", y.grad)\n",
    "print(\"dw/db = {}\", b.grad)\n",
    "\n",
    "#Note that the gradient of tensor x is None b/c we did not say requiring the gradient was necessary"
   ]
  },
  {
   "cell_type": "code",
   "execution_count": 25,
   "metadata": {},
   "outputs": [
    {
     "data": {
      "text/plain": [
       "tensor([[[7, 7, 7, 7, 7],\n",
       "         [7, 7, 7, 7, 7],\n",
       "         [7, 7, 7, 7, 7],\n",
       "         [7, 7, 7, 7, 7]],\n",
       "\n",
       "        [[7, 7, 7, 7, 7],\n",
       "         [7, 7, 7, 7, 7],\n",
       "         [7, 7, 7, 7, 7],\n",
       "         [7, 7, 7, 7, 7]],\n",
       "\n",
       "        [[7, 7, 7, 7, 7],\n",
       "         [7, 7, 7, 7, 7],\n",
       "         [7, 7, 7, 7, 7],\n",
       "         [7, 7, 7, 7, 7]]])"
      ]
     },
     "execution_count": 25,
     "metadata": {},
     "output_type": "execute_result"
    }
   ],
   "source": [
    "#Create a tensor of a given dimension with a given value for each entry\n",
    "t6 = torch.full([3, 4, 5], 7)\n",
    "t6"
   ]
  },
  {
   "cell_type": "code",
   "execution_count": 29,
   "metadata": {},
   "outputs": [
    {
     "data": {
      "text/plain": [
       "(tensor([[[  5.,   6.,   7.],\n",
       "          [  8.,   9.,  10.],\n",
       "          [ 11.,  12.,  13.]],\n",
       " \n",
       "         [[ 14.,  15.,  16.],\n",
       "          [ 17.,  18.,  19.],\n",
       "          [ 20.,  21., 122.]],\n",
       " \n",
       "         [[  5.,   6.,   7.],\n",
       "          [  8.,   9.,  10.],\n",
       "          [ 11.,  12.,  13.]],\n",
       " \n",
       "         [[ 14.,  15.,  16.],\n",
       "          [ 17.,  18.,  19.],\n",
       "          [ 20.,  21., 122.]]]),\n",
       " torch.Size([4, 3, 3]))"
      ]
     },
     "execution_count": 29,
     "metadata": {},
     "output_type": "execute_result"
    }
   ],
   "source": [
    "#How to concatenate two different tensors\n",
    "t7 = torch.cat((t4, t4))\n",
    "t7, t7.shape"
   ]
  },
  {
   "cell_type": "code",
   "execution_count": 30,
   "metadata": {},
   "outputs": [
    {
     "data": {
      "text/plain": [
       "tensor([[[-0.9589, -0.2794,  0.6570],\n",
       "         [ 0.9894,  0.4121, -0.5440],\n",
       "         [-1.0000, -0.5366,  0.4202]],\n",
       "\n",
       "        [[ 0.9906,  0.6503, -0.2879],\n",
       "         [-0.9614, -0.7510,  0.1499],\n",
       "         [ 0.9129,  0.8367,  0.4987]],\n",
       "\n",
       "        [[-0.9589, -0.2794,  0.6570],\n",
       "         [ 0.9894,  0.4121, -0.5440],\n",
       "         [-1.0000, -0.5366,  0.4202]],\n",
       "\n",
       "        [[ 0.9906,  0.6503, -0.2879],\n",
       "         [-0.9614, -0.7510,  0.1499],\n",
       "         [ 0.9129,  0.8367,  0.4987]]])"
      ]
     },
     "execution_count": 30,
     "metadata": {},
     "output_type": "execute_result"
    }
   ],
   "source": [
    "#There are thounsands of operations you can perform on every element of a tensor, like taking the sine of the value in a cell\n",
    "t8 = torch.sin(t7)\n",
    "t8"
   ]
  },
  {
   "cell_type": "code",
   "execution_count": 36,
   "metadata": {},
   "outputs": [
    {
     "data": {
      "text/plain": [
       "tensor([[[[-0.9589, -0.2794,  0.6570],\n",
       "          [ 0.9894,  0.4121, -0.5440],\n",
       "          [-1.0000, -0.5366,  0.4202]],\n",
       "\n",
       "         [[ 0.9906,  0.6503, -0.2879],\n",
       "          [-0.9614, -0.7510,  0.1499],\n",
       "          [ 0.9129,  0.8367,  0.4987]]],\n",
       "\n",
       "\n",
       "        [[[-0.9589, -0.2794,  0.6570],\n",
       "          [ 0.9894,  0.4121, -0.5440],\n",
       "          [-1.0000, -0.5366,  0.4202]],\n",
       "\n",
       "         [[ 0.9906,  0.6503, -0.2879],\n",
       "          [-0.9614, -0.7510,  0.1499],\n",
       "          [ 0.9129,  0.8367,  0.4987]]]])"
      ]
     },
     "execution_count": 36,
     "metadata": {},
     "output_type": "execute_result"
    }
   ],
   "source": [
    "#You can reshape a tensor to be higher or lower dimensional than your original one, so long as they number of elements remains constant\n",
    "t9 = t8.reshape(2, 2, 3, 3)\n",
    "t9"
   ]
  },
  {
   "cell_type": "markdown",
   "metadata": {},
   "source": [
    "Link to the documentation containing tensor operations:\n",
    "\n",
    "https://pytorch.org/docs/stable/torch.html"
   ]
  },
  {
   "cell_type": "code",
   "execution_count": 37,
   "metadata": {},
   "outputs": [],
   "source": [
    "import numpy as np"
   ]
  },
  {
   "cell_type": "code",
   "execution_count": 39,
   "metadata": {},
   "outputs": [
    {
     "data": {
      "text/plain": [
       "array([[1, 2],\n",
       "       [3, 4]])"
      ]
     },
     "execution_count": 39,
     "metadata": {},
     "output_type": "execute_result"
    }
   ],
   "source": [
    "#How to make multi-dimensional arrays in numpy, very similar to pytorch\n",
    "x = np.array([[1, 2], [3, 4]])\n",
    "x"
   ]
  },
  {
   "cell_type": "code",
   "execution_count": 40,
   "metadata": {},
   "outputs": [
    {
     "data": {
      "text/plain": [
       "tensor([[1, 2],\n",
       "        [3, 4]])"
      ]
     },
     "execution_count": 40,
     "metadata": {},
     "output_type": "execute_result"
    }
   ],
   "source": [
    "#Pytorch is interoperable with numpy, so there are many ways to use numpy objects w/ pytorch\n",
    "y = torch.from_numpy(x)\n",
    "y"
   ]
  },
  {
   "cell_type": "code",
   "execution_count": 41,
   "metadata": {},
   "outputs": [
    {
     "data": {
      "text/plain": [
       "(dtype('int64'), torch.int64)"
      ]
     },
     "execution_count": 41,
     "metadata": {},
     "output_type": "execute_result"
    }
   ],
   "source": [
    "#Note the differences in the types of these objects\n",
    "x.dtype, y.dtype"
   ]
  },
  {
   "cell_type": "code",
   "execution_count": 43,
   "metadata": {},
   "outputs": [
    {
     "data": {
      "text/plain": [
       "array([[1, 2],\n",
       "       [3, 4]])"
      ]
     },
     "execution_count": 43,
     "metadata": {},
     "output_type": "execute_result"
    }
   ],
   "source": [
    "#Go from tensor back to numpy:\n",
    "z = y.numpy()\n",
    "z"
   ]
  },
  {
   "cell_type": "markdown",
   "metadata": {},
   "source": [
    "If you can work with multi-dimensional data with numpy, why use pytorch??\n",
    "\n",
    "1. The ability to automatically compute gradients w.r.t tensors\n",
    "2. GPU support: much more efficient and powerful to use tensors than numpy arrays"
   ]
  },
  {
   "cell_type": "code",
   "execution_count": 44,
   "metadata": {},
   "outputs": [
    {
     "data": {
      "application/javascript": "if (window.IPython && IPython.notebook.kernel) IPython.notebook.kernel.execute('jovian.utils.jupyter.get_notebook_name_saved = lambda: \"' + IPython.notebook.notebook_name + '\"')",
      "text/plain": [
       "<IPython.core.display.Javascript object>"
      ]
     },
     "metadata": {},
     "output_type": "display_data"
    }
   ],
   "source": [
    "#Saving your notebook to Jovian:\n",
    "\n",
    "import jovian"
   ]
  },
  {
   "cell_type": "code",
   "execution_count": 47,
   "metadata": {},
   "outputs": [
    {
     "data": {
      "application/javascript": "window.require && require([\"base/js/namespace\"],function(Jupyter){Jupyter.notebook.save_checkpoint()})",
      "text/plain": [
       "<IPython.core.display.Javascript object>"
      ]
     },
     "metadata": {},
     "output_type": "display_data"
    },
    {
     "name": "stdout",
     "output_type": "stream",
     "text": [
      "[jovian] Please enter your API key ( from https://jovian.ai/ ):\u001b[0m\n",
      "API KEY:[jovian] Creating a new project \"danielcufino/01-tensors-basics\"\u001b[0m\n",
      "[jovian] Committed successfully! https://jovian.ai/danielcufino/01-tensors-basics\u001b[0m\n"
     ]
    },
    {
     "data": {
      "text/plain": [
       "'https://jovian.ai/danielcufino/01-tensors-basics'"
      ]
     },
     "execution_count": 47,
     "metadata": {},
     "output_type": "execute_result"
    }
   ],
   "source": [
    "jovian.commit(project = '01-tensors-basics', filename='1-basics.ipynb')"
   ]
  }
 ],
 "metadata": {
  "interpreter": {
   "hash": "5f77669fab35ec92083fcc4dd571d0f9418951f956a8a5354f6600963454a15c"
  },
  "kernelspec": {
   "display_name": "Python 3.8.13 ('torch')",
   "language": "python",
   "name": "python3"
  },
  "language_info": {
   "codemirror_mode": {
    "name": "ipython",
    "version": 3
   },
   "file_extension": ".py",
   "mimetype": "text/x-python",
   "name": "python",
   "nbconvert_exporter": "python",
   "pygments_lexer": "ipython3",
   "version": "3.8.13"
  },
  "orig_nbformat": 4
 },
 "nbformat": 4,
 "nbformat_minor": 2
}
